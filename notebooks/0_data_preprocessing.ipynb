{
 "cells": [
  {
   "cell_type": "markdown",
   "id": "47f725fe-191c-488a-92f2-c51856139f10",
   "metadata": {},
   "source": [
    "# 0. Imports"
   ]
  },
  {
   "cell_type": "code",
   "execution_count": 1,
   "id": "580d6c61-b77e-4f83-8a96-7d432eb545ee",
   "metadata": {},
   "outputs": [],
   "source": [
    "import os\n",
    "\n",
    "import pandas as pd"
   ]
  },
  {
   "cell_type": "markdown",
   "id": "81af15c3-fca7-48df-bb00-22a3933c8688",
   "metadata": {},
   "source": [
    "# 1. Fine-Dust Data of Seoul"
   ]
  },
  {
   "cell_type": "markdown",
   "id": "ad11e617-88cb-499f-a42d-ec0568021563",
   "metadata": {},
   "source": [
    "The original data was downloaded from [Public Data Portal](https://www.data.go.kr/data/15089266/fileData.do). The data contains hourly data for fine dust in Seoul, Korea, for the period of 2008 to 2021."
   ]
  },
  {
   "cell_type": "code",
   "execution_count": 7,
   "id": "c8478f82-7daf-4b5a-97f8-2dedf546107a",
   "metadata": {},
   "outputs": [
    {
     "data": {
      "text/plain": [
       "['서울시 대기질 자료 제공_2008-2011.csv',\n",
       " '서울시 대기질 자료 제공_2012-2015.csv',\n",
       " '서울시 대기질 자료 제공_2016-2019.csv',\n",
       " '서울시 대기질 자료 제공_2020-2021.csv']"
      ]
     },
     "execution_count": 7,
     "metadata": {},
     "output_type": "execute_result"
    }
   ],
   "source": [
    "os.listdir(\"../data/raw/fine_dust\")"
   ]
  },
  {
   "cell_type": "code",
   "execution_count": 20,
   "id": "defd2563-8252-4db9-8268-9216617a50dd",
   "metadata": {},
   "outputs": [],
   "source": [
    "fine_dust_df = pd.DataFrame()\n",
    "for i in range(len(os.listdir(\"../data/raw/fine_dust\"))):\n",
    "    df = pd.read_csv(\n",
    "        f\"../data/raw/fine_dust/{os.listdir('../data/raw/fine_dust')[i]}\",\n",
    "        encoding=\"cp949\",\n",
    "    )\n",
    "    fine_dust_df = pd.concat([fine_dust_df, df])"
   ]
  },
  {
   "cell_type": "code",
   "execution_count": 21,
   "id": "605d9f10-3f57-4d72-bd56-aa3cca6b519e",
   "metadata": {},
   "outputs": [
    {
     "data": {
      "text/html": [
       "<div>\n",
       "<style scoped>\n",
       "    .dataframe tbody tr th:only-of-type {\n",
       "        vertical-align: middle;\n",
       "    }\n",
       "\n",
       "    .dataframe tbody tr th {\n",
       "        vertical-align: top;\n",
       "    }\n",
       "\n",
       "    .dataframe thead th {\n",
       "        text-align: right;\n",
       "    }\n",
       "</style>\n",
       "<table border=\"1\" class=\"dataframe\">\n",
       "  <thead>\n",
       "    <tr style=\"text-align: right;\">\n",
       "      <th></th>\n",
       "      <th>일시</th>\n",
       "      <th>구분</th>\n",
       "      <th>미세먼지(PM10)</th>\n",
       "      <th>초미세먼지(PM25)</th>\n",
       "    </tr>\n",
       "  </thead>\n",
       "  <tbody>\n",
       "    <tr>\n",
       "      <th>0</th>\n",
       "      <td>2011-12-31 23:00</td>\n",
       "      <td>평균</td>\n",
       "      <td>89.0</td>\n",
       "      <td>61.0</td>\n",
       "    </tr>\n",
       "    <tr>\n",
       "      <th>1</th>\n",
       "      <td>2011-12-31 23:00</td>\n",
       "      <td>강남구</td>\n",
       "      <td>91.0</td>\n",
       "      <td>58.0</td>\n",
       "    </tr>\n",
       "    <tr>\n",
       "      <th>2</th>\n",
       "      <td>2011-12-31 23:00</td>\n",
       "      <td>강동구</td>\n",
       "      <td>89.0</td>\n",
       "      <td>59.0</td>\n",
       "    </tr>\n",
       "  </tbody>\n",
       "</table>\n",
       "</div>"
      ],
      "text/plain": [
       "                 일시   구분  미세먼지(PM10)  초미세먼지(PM25)\n",
       "0  2011-12-31 23:00   평균        89.0         61.0\n",
       "1  2011-12-31 23:00  강남구        91.0         58.0\n",
       "2  2011-12-31 23:00  강동구        89.0         59.0"
      ]
     },
     "execution_count": 21,
     "metadata": {},
     "output_type": "execute_result"
    }
   ],
   "source": [
    "fine_dust_df.head(3)"
   ]
  },
  {
   "cell_type": "code",
   "execution_count": 22,
   "id": "9b88bb11-4912-418d-9cab-f536d8662200",
   "metadata": {},
   "outputs": [],
   "source": [
    "# Column names were renamed in English\n",
    "\n",
    "fine_dust_df = fine_dust_df.rename(\n",
    "    columns={\n",
    "        \"일시\": \"Date\",\n",
    "        \"구분\": \"Data_Type\",\n",
    "        \"미세먼지(PM10)\": \"PM10_Counts\",\n",
    "        \"초미세먼지(PM25)\": \"PM25_Counts\",\n",
    "    }\n",
    ")"
   ]
  },
  {
   "cell_type": "code",
   "execution_count": 23,
   "id": "96afb435-3781-4d24-8fea-4a06728ce0ea",
   "metadata": {},
   "outputs": [
    {
     "data": {
      "text/html": [
       "<div>\n",
       "<style scoped>\n",
       "    .dataframe tbody tr th:only-of-type {\n",
       "        vertical-align: middle;\n",
       "    }\n",
       "\n",
       "    .dataframe tbody tr th {\n",
       "        vertical-align: top;\n",
       "    }\n",
       "\n",
       "    .dataframe thead th {\n",
       "        text-align: right;\n",
       "    }\n",
       "</style>\n",
       "<table border=\"1\" class=\"dataframe\">\n",
       "  <thead>\n",
       "    <tr style=\"text-align: right;\">\n",
       "      <th></th>\n",
       "      <th>Date</th>\n",
       "      <th>Data_Type</th>\n",
       "      <th>PM10_Counts</th>\n",
       "      <th>PM25_Counts</th>\n",
       "    </tr>\n",
       "  </thead>\n",
       "  <tbody>\n",
       "    <tr>\n",
       "      <th>0</th>\n",
       "      <td>2011-12-31 23:00</td>\n",
       "      <td>평균</td>\n",
       "      <td>89.0</td>\n",
       "      <td>61.0</td>\n",
       "    </tr>\n",
       "    <tr>\n",
       "      <th>1</th>\n",
       "      <td>2011-12-31 23:00</td>\n",
       "      <td>강남구</td>\n",
       "      <td>91.0</td>\n",
       "      <td>58.0</td>\n",
       "    </tr>\n",
       "    <tr>\n",
       "      <th>2</th>\n",
       "      <td>2011-12-31 23:00</td>\n",
       "      <td>강동구</td>\n",
       "      <td>89.0</td>\n",
       "      <td>59.0</td>\n",
       "    </tr>\n",
       "  </tbody>\n",
       "</table>\n",
       "</div>"
      ],
      "text/plain": [
       "               Date Data_Type  PM10_Counts  PM25_Counts\n",
       "0  2011-12-31 23:00        평균         89.0         61.0\n",
       "1  2011-12-31 23:00       강남구         91.0         58.0\n",
       "2  2011-12-31 23:00       강동구         89.0         59.0"
      ]
     },
     "execution_count": 23,
     "metadata": {},
     "output_type": "execute_result"
    }
   ],
   "source": [
    "fine_dust_df.head(3)"
   ]
  },
  {
   "cell_type": "code",
   "execution_count": 24,
   "id": "332d0663-5bb7-458d-97d1-9e7c56afc7aa",
   "metadata": {},
   "outputs": [],
   "source": [
    "# Only the data averaged over Seoul were selected.\n",
    "fine_dust_df = (\n",
    "    fine_dust_df.query(\"Data_Type == '평균'\")  # '평균' means Average\n",
    "    .sort_values(by=\"Date\")\n",
    "    .drop(columns=[\"Data_Type\"])\n",
    "    .reset_index(drop=True)\n",
    ")"
   ]
  },
  {
   "cell_type": "code",
   "execution_count": 25,
   "id": "2427e7be-946f-49a3-95c9-52a1815d20d2",
   "metadata": {},
   "outputs": [],
   "source": [
    "fine_dust_df[\"Date\"] = pd.to_datetime(fine_dust_df[\"Date\"])"
   ]
  },
  {
   "cell_type": "code",
   "execution_count": 26,
   "id": "e28c1388-57f6-4bff-9a4d-edc97c0dc5b8",
   "metadata": {},
   "outputs": [
    {
     "data": {
      "text/html": [
       "<div>\n",
       "<style scoped>\n",
       "    .dataframe tbody tr th:only-of-type {\n",
       "        vertical-align: middle;\n",
       "    }\n",
       "\n",
       "    .dataframe tbody tr th {\n",
       "        vertical-align: top;\n",
       "    }\n",
       "\n",
       "    .dataframe thead th {\n",
       "        text-align: right;\n",
       "    }\n",
       "</style>\n",
       "<table border=\"1\" class=\"dataframe\">\n",
       "  <thead>\n",
       "    <tr style=\"text-align: right;\">\n",
       "      <th></th>\n",
       "      <th>Date</th>\n",
       "      <th>PM10_Counts</th>\n",
       "      <th>PM25_Counts</th>\n",
       "    </tr>\n",
       "  </thead>\n",
       "  <tbody>\n",
       "    <tr>\n",
       "      <th>0</th>\n",
       "      <td>2008-01-01 10:00:00</td>\n",
       "      <td>30.0</td>\n",
       "      <td>11.0</td>\n",
       "    </tr>\n",
       "    <tr>\n",
       "      <th>1</th>\n",
       "      <td>2008-01-01 11:00:00</td>\n",
       "      <td>29.0</td>\n",
       "      <td>13.0</td>\n",
       "    </tr>\n",
       "    <tr>\n",
       "      <th>2</th>\n",
       "      <td>2008-01-01 12:00:00</td>\n",
       "      <td>29.0</td>\n",
       "      <td>12.0</td>\n",
       "    </tr>\n",
       "    <tr>\n",
       "      <th>3</th>\n",
       "      <td>2008-01-01 13:00:00</td>\n",
       "      <td>28.0</td>\n",
       "      <td>12.0</td>\n",
       "    </tr>\n",
       "    <tr>\n",
       "      <th>4</th>\n",
       "      <td>2008-01-01 14:00:00</td>\n",
       "      <td>27.0</td>\n",
       "      <td>13.0</td>\n",
       "    </tr>\n",
       "  </tbody>\n",
       "</table>\n",
       "</div>"
      ],
      "text/plain": [
       "                 Date  PM10_Counts  PM25_Counts\n",
       "0 2008-01-01 10:00:00         30.0         11.0\n",
       "1 2008-01-01 11:00:00         29.0         13.0\n",
       "2 2008-01-01 12:00:00         29.0         12.0\n",
       "3 2008-01-01 13:00:00         28.0         12.0\n",
       "4 2008-01-01 14:00:00         27.0         13.0"
      ]
     },
     "execution_count": 26,
     "metadata": {},
     "output_type": "execute_result"
    }
   ],
   "source": [
    "fine_dust_df.head()"
   ]
  },
  {
   "cell_type": "code",
   "execution_count": 27,
   "id": "bde179f5-30d7-48aa-9940-403509d5a9b8",
   "metadata": {},
   "outputs": [
    {
     "name": "stdout",
     "output_type": "stream",
     "text": [
      "<class 'pandas.core.frame.DataFrame'>\n",
      "RangeIndex: 122733 entries, 0 to 122732\n",
      "Data columns (total 3 columns):\n",
      " #   Column       Non-Null Count   Dtype         \n",
      "---  ------       --------------   -----         \n",
      " 0   Date         122733 non-null  datetime64[ns]\n",
      " 1   PM10_Counts  122733 non-null  float64       \n",
      " 2   PM25_Counts  122733 non-null  float64       \n",
      "dtypes: datetime64[ns](1), float64(2)\n",
      "memory usage: 2.8 MB\n"
     ]
    }
   ],
   "source": [
    "fine_dust_df.info()"
   ]
  },
  {
   "cell_type": "markdown",
   "id": "44c7d257-1786-4f97-979e-c01b6a44d1c3",
   "metadata": {},
   "source": [
    "# 서울특별시 날씨 Data"
   ]
  },
  {
   "cell_type": "code",
   "execution_count": null,
   "id": "26e0f8a8-b475-4bd1-b2ad-10d7a56af8f6",
   "metadata": {},
   "outputs": [],
   "source": [
    "# 원본 데이터 출처: https://data.kma.go.kr/data/grnd/selectAsosRltmList.do?pgmNo=36&tabNo=1\n",
    "\n",
    "os.listdir(\"data/raw_weather\")"
   ]
  },
  {
   "cell_type": "code",
   "execution_count": null,
   "id": "a8e5bb0a-54af-4315-9c63-a95b86e5f912",
   "metadata": {},
   "outputs": [],
   "source": [
    "weather_df = pd.DataFrame()\n",
    "for i in range(len(os.listdir(\"data/raw_weather\"))):\n",
    "    df = pd.read_csv(\n",
    "        f\"data/raw_weather/{os.listdir('data/raw_weather')[i]}\", encoding=\"cp949\"\n",
    "    )\n",
    "    weather_df = pd.concat([weather_df, df])"
   ]
  },
  {
   "cell_type": "code",
   "execution_count": null,
   "id": "38568bef-c9b6-493f-9512-05d8aabd4c09",
   "metadata": {},
   "outputs": [],
   "source": [
    "weather_df[\"일시\"] = pd.to_datetime(weather_df[\"일시\"])"
   ]
  },
  {
   "cell_type": "code",
   "execution_count": null,
   "id": "b60650cf-24ed-48ec-a430-53a6f7947970",
   "metadata": {},
   "outputs": [],
   "source": [
    "weather_df = weather_df.sort_values(by=\"일시\").reset_index(drop=True)"
   ]
  },
  {
   "cell_type": "code",
   "execution_count": null,
   "id": "d8d69062-3d33-4c9b-83df-716ba49c8de3",
   "metadata": {},
   "outputs": [],
   "source": [
    "weather_df"
   ]
  },
  {
   "cell_type": "code",
   "execution_count": null,
   "id": "3e5c1c2c-db06-46c6-8083-5c55593030d5",
   "metadata": {},
   "outputs": [],
   "source": [
    "weather_df.info()"
   ]
  },
  {
   "cell_type": "code",
   "execution_count": null,
   "id": "8ab42fd9-1901-4ca2-8d1b-d2b2aeb7d955",
   "metadata": {},
   "outputs": [],
   "source": [
    "weather_df.nunique()"
   ]
  },
  {
   "cell_type": "code",
   "execution_count": null,
   "id": "aa76cf79-f27a-4502-85cc-5a91463ab7b8",
   "metadata": {},
   "outputs": [],
   "source": [
    "weather_df.columns"
   ]
  },
  {
   "cell_type": "code",
   "execution_count": null,
   "id": "1e967281-e65d-4a89-8936-7c2e1259c067",
   "metadata": {},
   "outputs": [],
   "source": [
    "new_cols = [\n",
    "    \"일시\",\n",
    "    \"기온(°C)\",\n",
    "    \"강수량(mm)\",\n",
    "    \"풍속(m/s)\",\n",
    "    \"풍향(16방위)\",\n",
    "    \"습도(%)\",\n",
    "    \"증기압(hPa)\",\n",
    "    \"이슬점온도(°C)\",\n",
    "    \"현지기압(hPa)\",\n",
    "    \"전운량(10분위)\",\n",
    "    \"중하층운량(10분위)\",\n",
    "    \"최저운고(100m )\",\n",
    "]"
   ]
  },
  {
   "cell_type": "code",
   "execution_count": null,
   "id": "fa380493-b3bf-40a6-8b91-22f59f2403b5",
   "metadata": {},
   "outputs": [],
   "source": [
    "weather_df = weather_df[new_cols]\n",
    "weather_df.rename(\n",
    "    columns={\"최저운고(100m )\": \"최저운고(100m)\"}, inplace=True\n",
    ")  # Removes the white space"
   ]
  },
  {
   "cell_type": "code",
   "execution_count": null,
   "id": "3d19061d-39fb-43db-8513-dc03bc84a493",
   "metadata": {},
   "outputs": [],
   "source": [
    "weather_df"
   ]
  },
  {
   "cell_type": "code",
   "execution_count": null,
   "id": "f7f7a80a-e798-4570-b623-f5eecedf3bd5",
   "metadata": {},
   "outputs": [],
   "source": [
    "weather_df.info()"
   ]
  },
  {
   "cell_type": "markdown",
   "id": "38d2776e-4f56-42b0-bb34-bf98d7583c9b",
   "metadata": {},
   "source": [
    "# Data 합치기"
   ]
  },
  {
   "cell_type": "code",
   "execution_count": null,
   "id": "736acbba-32f9-4dfc-bc82-3a6b9634177a",
   "metadata": {},
   "outputs": [],
   "source": [
    "combined_df = fine_dust_df.merge(weather_df, on=\"일시\", how=\"left\")"
   ]
  },
  {
   "cell_type": "code",
   "execution_count": null,
   "id": "eb1f0d4a-1236-44b0-91e8-1115e614b99f",
   "metadata": {},
   "outputs": [],
   "source": [
    "combined_df"
   ]
  },
  {
   "cell_type": "code",
   "execution_count": null,
   "id": "a223e025-7321-48eb-a01a-888c5155a1d8",
   "metadata": {},
   "outputs": [],
   "source": [
    "combined_df.info()"
   ]
  },
  {
   "cell_type": "code",
   "execution_count": null,
   "id": "04ffaebc-535e-4611-9784-5813b06f6417",
   "metadata": {},
   "outputs": [],
   "source": [
    "combined_df.to_csv(\"data/processed/seoul_fine_dust_weather_2008_2021.csv\", index=False)"
   ]
  },
  {
   "cell_type": "code",
   "execution_count": null,
   "id": "c5bc7fa4-8f05-41d1-b688-93166d712aec",
   "metadata": {},
   "outputs": [],
   "source": []
  }
 ],
 "metadata": {
  "kernelspec": {
   "display_name": "Python [conda env:inj_env]",
   "language": "python",
   "name": "conda-env-inj_env-py"
  },
  "language_info": {
   "codemirror_mode": {
    "name": "ipython",
    "version": 3
   },
   "file_extension": ".py",
   "mimetype": "text/x-python",
   "name": "python",
   "nbconvert_exporter": "python",
   "pygments_lexer": "ipython3",
   "version": "3.10.8"
  }
 },
 "nbformat": 4,
 "nbformat_minor": 5
}
