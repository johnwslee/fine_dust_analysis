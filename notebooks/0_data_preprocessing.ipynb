{
 "cells": [
  {
   "cell_type": "markdown",
   "id": "47f725fe-191c-488a-92f2-c51856139f10",
   "metadata": {},
   "source": [
    "# 0. Imports"
   ]
  },
  {
   "cell_type": "code",
   "execution_count": 1,
   "id": "580d6c61-b77e-4f83-8a96-7d432eb545ee",
   "metadata": {},
   "outputs": [],
   "source": [
    "import os\n",
    "import warnings\n",
    "\n",
    "import pandas as pd\n",
    "from pandas.errors import SettingWithCopyWarning\n",
    "\n",
    "warnings.simplefilter(action=\"ignore\", category=SettingWithCopyWarning)"
   ]
  },
  {
   "cell_type": "markdown",
   "id": "81af15c3-fca7-48df-bb00-22a3933c8688",
   "metadata": {},
   "source": [
    "# 1. Fine-Dust Data in Seoul"
   ]
  },
  {
   "cell_type": "markdown",
   "id": "ad11e617-88cb-499f-a42d-ec0568021563",
   "metadata": {},
   "source": [
    "The original data was downloaded from [Public Data Portal](https://www.data.go.kr/data/15089266/fileData.do). The data contains hourly data for fine dust measured in Seoul, Korea, for the period of 2008 to 2021."
   ]
  },
  {
   "cell_type": "code",
   "execution_count": 2,
   "id": "c8478f82-7daf-4b5a-97f8-2dedf546107a",
   "metadata": {},
   "outputs": [
    {
     "data": {
      "text/plain": [
       "['서울시 대기질 자료 제공_2008-2011.csv',\n",
       " '서울시 대기질 자료 제공_2012-2015.csv',\n",
       " '서울시 대기질 자료 제공_2016-2019.csv',\n",
       " '서울시 대기질 자료 제공_2020-2021.csv']"
      ]
     },
     "execution_count": 2,
     "metadata": {},
     "output_type": "execute_result"
    }
   ],
   "source": [
    "os.listdir(\"../data/raw/fine_dust\")"
   ]
  },
  {
   "cell_type": "code",
   "execution_count": 3,
   "id": "defd2563-8252-4db9-8268-9216617a50dd",
   "metadata": {},
   "outputs": [],
   "source": [
    "fine_dust_df = pd.DataFrame()\n",
    "for i in range(len(os.listdir(\"../data/raw/fine_dust\"))):\n",
    "    df = pd.read_csv(\n",
    "        f\"../data/raw/fine_dust/{os.listdir('../data/raw/fine_dust')[i]}\",\n",
    "        encoding=\"cp949\",\n",
    "    )\n",
    "    fine_dust_df = pd.concat([fine_dust_df, df])"
   ]
  },
  {
   "cell_type": "code",
   "execution_count": 4,
   "id": "9b88bb11-4912-418d-9cab-f536d8662200",
   "metadata": {},
   "outputs": [],
   "source": [
    "# Column names were renamed in English\n",
    "\n",
    "fine_dust_df = fine_dust_df.rename(\n",
    "    columns={\n",
    "        \"일시\": \"date\",\n",
    "        \"구분\": \"data_Type\",\n",
    "        \"미세먼지(PM10)\": \"PM10_Counts\",\n",
    "        \"초미세먼지(PM25)\": \"PM25_Counts\",\n",
    "    }\n",
    ")"
   ]
  },
  {
   "cell_type": "code",
   "execution_count": 5,
   "id": "96afb435-3781-4d24-8fea-4a06728ce0ea",
   "metadata": {},
   "outputs": [
    {
     "data": {
      "text/html": [
       "<div>\n",
       "<style scoped>\n",
       "    .dataframe tbody tr th:only-of-type {\n",
       "        vertical-align: middle;\n",
       "    }\n",
       "\n",
       "    .dataframe tbody tr th {\n",
       "        vertical-align: top;\n",
       "    }\n",
       "\n",
       "    .dataframe thead th {\n",
       "        text-align: right;\n",
       "    }\n",
       "</style>\n",
       "<table border=\"1\" class=\"dataframe\">\n",
       "  <thead>\n",
       "    <tr style=\"text-align: right;\">\n",
       "      <th></th>\n",
       "      <th>date</th>\n",
       "      <th>data_Type</th>\n",
       "      <th>PM10_Counts</th>\n",
       "      <th>PM25_Counts</th>\n",
       "    </tr>\n",
       "  </thead>\n",
       "  <tbody>\n",
       "    <tr>\n",
       "      <th>0</th>\n",
       "      <td>2011-12-31 23:00</td>\n",
       "      <td>평균</td>\n",
       "      <td>89.0</td>\n",
       "      <td>61.0</td>\n",
       "    </tr>\n",
       "    <tr>\n",
       "      <th>1</th>\n",
       "      <td>2011-12-31 23:00</td>\n",
       "      <td>강남구</td>\n",
       "      <td>91.0</td>\n",
       "      <td>58.0</td>\n",
       "    </tr>\n",
       "    <tr>\n",
       "      <th>2</th>\n",
       "      <td>2011-12-31 23:00</td>\n",
       "      <td>강동구</td>\n",
       "      <td>89.0</td>\n",
       "      <td>59.0</td>\n",
       "    </tr>\n",
       "  </tbody>\n",
       "</table>\n",
       "</div>"
      ],
      "text/plain": [
       "               date data_Type  PM10_Counts  PM25_Counts\n",
       "0  2011-12-31 23:00        평균         89.0         61.0\n",
       "1  2011-12-31 23:00       강남구         91.0         58.0\n",
       "2  2011-12-31 23:00       강동구         89.0         59.0"
      ]
     },
     "execution_count": 5,
     "metadata": {},
     "output_type": "execute_result"
    }
   ],
   "source": [
    "fine_dust_df.head(3)"
   ]
  },
  {
   "cell_type": "markdown",
   "id": "1e3a02a4-6f14-4a02-961a-42d396ea4b16",
   "metadata": {},
   "source": [
    "`PM10_Counts` and `PM25_Counts` are densities of particulate matter less than 10um and 2.5um in microgram/cubic meter, respectively. The density of PM2.5 was written as `PM25_Counts` on purpose since the dot in the middle of feature name can cause unwanted results."
   ]
  },
  {
   "cell_type": "code",
   "execution_count": 6,
   "id": "332d0663-5bb7-458d-97d1-9e7c56afc7aa",
   "metadata": {},
   "outputs": [],
   "source": [
    "# The data averaged over Seoul were only selected.\n",
    "fine_dust_df = (\n",
    "    fine_dust_df.query(\"data_Type == '평균'\")  # '평균' means Average\n",
    "    .sort_values(by=\"date\")\n",
    "    .drop(columns=[\"data_Type\"])\n",
    "    .reset_index(drop=True)\n",
    ")"
   ]
  },
  {
   "cell_type": "code",
   "execution_count": 7,
   "id": "2427e7be-946f-49a3-95c9-52a1815d20d2",
   "metadata": {},
   "outputs": [],
   "source": [
    "fine_dust_df[\"date\"] = pd.to_datetime(fine_dust_df[\"date\"])"
   ]
  },
  {
   "cell_type": "code",
   "execution_count": 8,
   "id": "e28c1388-57f6-4bff-9a4d-edc97c0dc5b8",
   "metadata": {},
   "outputs": [
    {
     "data": {
      "text/html": [
       "<div>\n",
       "<style scoped>\n",
       "    .dataframe tbody tr th:only-of-type {\n",
       "        vertical-align: middle;\n",
       "    }\n",
       "\n",
       "    .dataframe tbody tr th {\n",
       "        vertical-align: top;\n",
       "    }\n",
       "\n",
       "    .dataframe thead th {\n",
       "        text-align: right;\n",
       "    }\n",
       "</style>\n",
       "<table border=\"1\" class=\"dataframe\">\n",
       "  <thead>\n",
       "    <tr style=\"text-align: right;\">\n",
       "      <th></th>\n",
       "      <th>date</th>\n",
       "      <th>PM10_Counts</th>\n",
       "      <th>PM25_Counts</th>\n",
       "    </tr>\n",
       "  </thead>\n",
       "  <tbody>\n",
       "    <tr>\n",
       "      <th>0</th>\n",
       "      <td>2008-01-01 10:00:00</td>\n",
       "      <td>30.0</td>\n",
       "      <td>11.0</td>\n",
       "    </tr>\n",
       "    <tr>\n",
       "      <th>1</th>\n",
       "      <td>2008-01-01 11:00:00</td>\n",
       "      <td>29.0</td>\n",
       "      <td>13.0</td>\n",
       "    </tr>\n",
       "    <tr>\n",
       "      <th>2</th>\n",
       "      <td>2008-01-01 12:00:00</td>\n",
       "      <td>29.0</td>\n",
       "      <td>12.0</td>\n",
       "    </tr>\n",
       "  </tbody>\n",
       "</table>\n",
       "</div>"
      ],
      "text/plain": [
       "                 date  PM10_Counts  PM25_Counts\n",
       "0 2008-01-01 10:00:00         30.0         11.0\n",
       "1 2008-01-01 11:00:00         29.0         13.0\n",
       "2 2008-01-01 12:00:00         29.0         12.0"
      ]
     },
     "execution_count": 8,
     "metadata": {},
     "output_type": "execute_result"
    }
   ],
   "source": [
    "fine_dust_df.head(3)"
   ]
  },
  {
   "cell_type": "code",
   "execution_count": 9,
   "id": "bde179f5-30d7-48aa-9940-403509d5a9b8",
   "metadata": {},
   "outputs": [
    {
     "name": "stdout",
     "output_type": "stream",
     "text": [
      "<class 'pandas.core.frame.DataFrame'>\n",
      "RangeIndex: 122733 entries, 0 to 122732\n",
      "Data columns (total 3 columns):\n",
      " #   Column       Non-Null Count   Dtype         \n",
      "---  ------       --------------   -----         \n",
      " 0   date         122733 non-null  datetime64[ns]\n",
      " 1   PM10_Counts  122733 non-null  float64       \n",
      " 2   PM25_Counts  122733 non-null  float64       \n",
      "dtypes: datetime64[ns](1), float64(2)\n",
      "memory usage: 2.8 MB\n"
     ]
    }
   ],
   "source": [
    "fine_dust_df.info()"
   ]
  },
  {
   "cell_type": "markdown",
   "id": "44c7d257-1786-4f97-979e-c01b6a44d1c3",
   "metadata": {},
   "source": [
    "# 2. Seoul Weather Data"
   ]
  },
  {
   "cell_type": "markdown",
   "id": "79661e99-8a07-4829-a755-71964da5ad2b",
   "metadata": {},
   "source": [
    "Weather data was downloaded from [Open MET Data Portal](https://data.kma.go.kr/data/grnd/selectAsosRltmList.do?pgmNo=36&tabNo=1) by KMA (Korea Meteorological Administration) Weather Data Service."
   ]
  },
  {
   "cell_type": "code",
   "execution_count": 10,
   "id": "7497e90d-8e16-4bca-b6c1-590a7f2aead6",
   "metadata": {},
   "outputs": [
    {
     "data": {
      "text/plain": [
       "['SURFACE_ASOS_108_HR_2008_2008_2015.csv',\n",
       " 'SURFACE_ASOS_108_HR_2009_2009_2015.csv',\n",
       " 'SURFACE_ASOS_108_HR_2010_2010_2018.csv',\n",
       " 'SURFACE_ASOS_108_HR_2011_2011_2018.csv',\n",
       " 'SURFACE_ASOS_108_HR_2012_2012_2018.csv',\n",
       " 'SURFACE_ASOS_108_HR_2013_2013_2018.csv',\n",
       " 'SURFACE_ASOS_108_HR_2014_2014_2018.csv',\n",
       " 'SURFACE_ASOS_108_HR_2015_2015_2018.csv',\n",
       " 'SURFACE_ASOS_108_HR_2016_2016_2017.csv',\n",
       " 'SURFACE_ASOS_108_HR_2017_2017_2018.csv',\n",
       " 'SURFACE_ASOS_108_HR_2018_2018_2019.csv',\n",
       " 'SURFACE_ASOS_108_HR_2019_2019_2020.csv',\n",
       " 'SURFACE_ASOS_108_HR_2020_2020_2021.csv',\n",
       " 'SURFACE_ASOS_108_HR_2021_2021_2022.csv']"
      ]
     },
     "execution_count": 10,
     "metadata": {},
     "output_type": "execute_result"
    }
   ],
   "source": [
    "os.listdir(\"../data/raw/weather\")"
   ]
  },
  {
   "cell_type": "code",
   "execution_count": 11,
   "id": "a8e5bb0a-54af-4315-9c63-a95b86e5f912",
   "metadata": {},
   "outputs": [],
   "source": [
    "weather_df = pd.DataFrame()\n",
    "for i in range(len(os.listdir(\"../data/raw/weather\"))):\n",
    "    df = pd.read_csv(\n",
    "        f\"../data/raw/weather/{os.listdir('../data/raw/weather')[i]}\", encoding=\"cp949\"\n",
    "    )\n",
    "    weather_df = pd.concat([weather_df, df])"
   ]
  },
  {
   "cell_type": "code",
   "execution_count": 12,
   "id": "798c3a0a-6bbc-4714-9b48-22701bb0fae3",
   "metadata": {},
   "outputs": [
    {
     "data": {
      "text/plain": [
       "Index(['지점', '일시', '기온(°C)', '강수량(mm)', '풍속(m/s)', '풍향(16방위)', '습도(%)',\n",
       "       '증기압(hPa)', '이슬점온도(°C)', '현지기압(hPa)', '해면기압(hPa)', '일조(hr)',\n",
       "       '일사(MJ/m2)', '적설(cm)', '3시간신적설(cm)', '전운량(10분위)', '중하층운량(10분위)',\n",
       "       '운형(운형약어)', '최저운고(100m )', '시정(10m)', '지면상태(지면상태코드)', '현상번호(국내식)',\n",
       "       '지면온도(°C)', '5cm 지중온도(°C)', '10cm 지중온도(°C)', '20cm 지중온도(°C)',\n",
       "       '30cm 지중온도(°C)'],\n",
       "      dtype='object')"
      ]
     },
     "execution_count": 12,
     "metadata": {},
     "output_type": "execute_result"
    }
   ],
   "source": [
    "weather_df.columns"
   ]
  },
  {
   "cell_type": "code",
   "execution_count": 13,
   "id": "532fe4b6-a696-42d8-9c4c-e3d737590ce2",
   "metadata": {},
   "outputs": [],
   "source": [
    "# Columns were filtered according to the relevance.\n",
    "\n",
    "relevant_cols = [\n",
    "    \"일시\",\n",
    "    \"기온(°C)\",\n",
    "    \"강수량(mm)\",\n",
    "    \"풍속(m/s)\",\n",
    "    \"풍향(16방위)\",\n",
    "    \"습도(%)\",\n",
    "    \"증기압(hPa)\",\n",
    "    \"이슬점온도(°C)\",\n",
    "    \"현지기압(hPa)\",\n",
    "    \"전운량(10분위)\",\n",
    "    \"최저운고(100m )\",\n",
    "]\n",
    "\n",
    "weather_df = weather_df[relevant_cols]"
   ]
  },
  {
   "cell_type": "code",
   "execution_count": 14,
   "id": "54d43501-9a1d-4f20-b285-a5926fb4b089",
   "metadata": {},
   "outputs": [],
   "source": [
    "# Column names were renamed in English\n",
    "\n",
    "cols_in_english = [\n",
    "    \"date\",\n",
    "    \"temp(°C)\",\n",
    "    \"precipitation(mm)\",\n",
    "    \"wind_speed(m/s)\",\n",
    "    \"wind_direction\",\n",
    "    \"humidity(%)\",\n",
    "    \"vapor_P(hPa)\",\n",
    "    \"dew_point_temp(°C)\",\n",
    "    \"local_P(hPa)\",\n",
    "    \"cloud_cover\",\n",
    "    \"lowest_ceiling(100m)\",\n",
    "]\n",
    "\n",
    "for i, col in enumerate(relevant_cols):\n",
    "    weather_df.rename(columns={relevant_cols[i]: cols_in_english[i]}, inplace=True)"
   ]
  },
  {
   "cell_type": "code",
   "execution_count": 15,
   "id": "38568bef-c9b6-493f-9512-05d8aabd4c09",
   "metadata": {},
   "outputs": [],
   "source": [
    "weather_df[\"date\"] = pd.to_datetime(weather_df[\"date\"])"
   ]
  },
  {
   "cell_type": "code",
   "execution_count": 16,
   "id": "b60650cf-24ed-48ec-a430-53a6f7947970",
   "metadata": {},
   "outputs": [],
   "source": [
    "weather_df = weather_df.sort_values(by=\"date\").reset_index(drop=True)"
   ]
  },
  {
   "cell_type": "code",
   "execution_count": 17,
   "id": "3d19061d-39fb-43db-8513-dc03bc84a493",
   "metadata": {},
   "outputs": [
    {
     "data": {
      "text/html": [
       "<div>\n",
       "<style scoped>\n",
       "    .dataframe tbody tr th:only-of-type {\n",
       "        vertical-align: middle;\n",
       "    }\n",
       "\n",
       "    .dataframe tbody tr th {\n",
       "        vertical-align: top;\n",
       "    }\n",
       "\n",
       "    .dataframe thead th {\n",
       "        text-align: right;\n",
       "    }\n",
       "</style>\n",
       "<table border=\"1\" class=\"dataframe\">\n",
       "  <thead>\n",
       "    <tr style=\"text-align: right;\">\n",
       "      <th></th>\n",
       "      <th>date</th>\n",
       "      <th>temp(°C)</th>\n",
       "      <th>precipitation(mm)</th>\n",
       "      <th>wind_speed(m/s)</th>\n",
       "      <th>wind_direction</th>\n",
       "      <th>humidity(%)</th>\n",
       "      <th>vapor_P(hPa)</th>\n",
       "      <th>dew_point_temp(°C)</th>\n",
       "      <th>local_P(hPa)</th>\n",
       "      <th>cloud_cover</th>\n",
       "      <th>lowest_ceiling(100m)</th>\n",
       "    </tr>\n",
       "  </thead>\n",
       "  <tbody>\n",
       "    <tr>\n",
       "      <th>0</th>\n",
       "      <td>2008-01-01 00:00:00</td>\n",
       "      <td>-7.0</td>\n",
       "      <td>NaN</td>\n",
       "      <td>3.5</td>\n",
       "      <td>270.0</td>\n",
       "      <td>52.0</td>\n",
       "      <td>1.8</td>\n",
       "      <td>-16.1</td>\n",
       "      <td>1008.0</td>\n",
       "      <td>1.0</td>\n",
       "      <td>10.0</td>\n",
       "    </tr>\n",
       "    <tr>\n",
       "      <th>1</th>\n",
       "      <td>2008-01-01 01:00:00</td>\n",
       "      <td>-7.3</td>\n",
       "      <td>NaN</td>\n",
       "      <td>4.9</td>\n",
       "      <td>290.0</td>\n",
       "      <td>52.0</td>\n",
       "      <td>NaN</td>\n",
       "      <td>NaN</td>\n",
       "      <td>NaN</td>\n",
       "      <td>NaN</td>\n",
       "      <td>NaN</td>\n",
       "    </tr>\n",
       "    <tr>\n",
       "      <th>2</th>\n",
       "      <td>2008-01-01 02:00:00</td>\n",
       "      <td>-7.5</td>\n",
       "      <td>NaN</td>\n",
       "      <td>4.1</td>\n",
       "      <td>270.0</td>\n",
       "      <td>52.0</td>\n",
       "      <td>NaN</td>\n",
       "      <td>NaN</td>\n",
       "      <td>NaN</td>\n",
       "      <td>NaN</td>\n",
       "      <td>NaN</td>\n",
       "    </tr>\n",
       "  </tbody>\n",
       "</table>\n",
       "</div>"
      ],
      "text/plain": [
       "                 date  temp(°C)  precipitation(mm)  wind_speed(m/s)  \\\n",
       "0 2008-01-01 00:00:00      -7.0                NaN              3.5   \n",
       "1 2008-01-01 01:00:00      -7.3                NaN              4.9   \n",
       "2 2008-01-01 02:00:00      -7.5                NaN              4.1   \n",
       "\n",
       "   wind_direction  humidity(%)  vapor_P(hPa)  dew_point_temp(°C)  \\\n",
       "0           270.0         52.0           1.8               -16.1   \n",
       "1           290.0         52.0           NaN                 NaN   \n",
       "2           270.0         52.0           NaN                 NaN   \n",
       "\n",
       "   local_P(hPa)  cloud_cover  lowest_ceiling(100m)  \n",
       "0        1008.0          1.0                  10.0  \n",
       "1           NaN          NaN                   NaN  \n",
       "2           NaN          NaN                   NaN  "
      ]
     },
     "execution_count": 17,
     "metadata": {},
     "output_type": "execute_result"
    }
   ],
   "source": [
    "weather_df.head(3)"
   ]
  },
  {
   "cell_type": "code",
   "execution_count": 18,
   "id": "3e5c1c2c-db06-46c6-8083-5c55593030d5",
   "metadata": {},
   "outputs": [
    {
     "name": "stdout",
     "output_type": "stream",
     "text": [
      "<class 'pandas.core.frame.DataFrame'>\n",
      "RangeIndex: 122750 entries, 0 to 122749\n",
      "Data columns (total 11 columns):\n",
      " #   Column                Non-Null Count   Dtype         \n",
      "---  ------                --------------   -----         \n",
      " 0   date                  122750 non-null  datetime64[ns]\n",
      " 1   temp(°C)              122728 non-null  float64       \n",
      " 2   precipitation(mm)     12267 non-null   float64       \n",
      " 3   wind_speed(m/s)       122677 non-null  float64       \n",
      " 4   wind_direction        122677 non-null  float64       \n",
      " 5   humidity(%)           122711 non-null  float64       \n",
      " 6   vapor_P(hPa)          120884 non-null  float64       \n",
      " 7   dew_point_temp(°C)    120879 non-null  float64       \n",
      " 8   local_P(hPa)          120868 non-null  float64       \n",
      " 9   cloud_cover           102288 non-null  float64       \n",
      " 10  lowest_ceiling(100m)  59433 non-null   float64       \n",
      "dtypes: datetime64[ns](1), float64(10)\n",
      "memory usage: 10.3 MB\n"
     ]
    }
   ],
   "source": [
    "weather_df.info()"
   ]
  },
  {
   "cell_type": "markdown",
   "id": "38d2776e-4f56-42b0-bb34-bf98d7583c9b",
   "metadata": {},
   "source": [
    "# 3. Data Merge"
   ]
  },
  {
   "cell_type": "code",
   "execution_count": 19,
   "id": "736acbba-32f9-4dfc-bc82-3a6b9634177a",
   "metadata": {},
   "outputs": [],
   "source": [
    "combined_df = fine_dust_df.merge(weather_df, on=\"date\", how=\"left\")"
   ]
  },
  {
   "cell_type": "code",
   "execution_count": 20,
   "id": "eb1f0d4a-1236-44b0-91e8-1115e614b99f",
   "metadata": {},
   "outputs": [
    {
     "data": {
      "text/html": [
       "<div>\n",
       "<style scoped>\n",
       "    .dataframe tbody tr th:only-of-type {\n",
       "        vertical-align: middle;\n",
       "    }\n",
       "\n",
       "    .dataframe tbody tr th {\n",
       "        vertical-align: top;\n",
       "    }\n",
       "\n",
       "    .dataframe thead th {\n",
       "        text-align: right;\n",
       "    }\n",
       "</style>\n",
       "<table border=\"1\" class=\"dataframe\">\n",
       "  <thead>\n",
       "    <tr style=\"text-align: right;\">\n",
       "      <th></th>\n",
       "      <th>date</th>\n",
       "      <th>PM10_Counts</th>\n",
       "      <th>PM25_Counts</th>\n",
       "      <th>temp(°C)</th>\n",
       "      <th>precipitation(mm)</th>\n",
       "      <th>wind_speed(m/s)</th>\n",
       "      <th>wind_direction</th>\n",
       "      <th>humidity(%)</th>\n",
       "      <th>vapor_P(hPa)</th>\n",
       "      <th>dew_point_temp(°C)</th>\n",
       "      <th>local_P(hPa)</th>\n",
       "      <th>cloud_cover</th>\n",
       "      <th>lowest_ceiling(100m)</th>\n",
       "    </tr>\n",
       "  </thead>\n",
       "  <tbody>\n",
       "    <tr>\n",
       "      <th>0</th>\n",
       "      <td>2008-01-01 10:00:00</td>\n",
       "      <td>30.0</td>\n",
       "      <td>11.0</td>\n",
       "      <td>-7.6</td>\n",
       "      <td>NaN</td>\n",
       "      <td>4.6</td>\n",
       "      <td>340.0</td>\n",
       "      <td>47.0</td>\n",
       "      <td>NaN</td>\n",
       "      <td>NaN</td>\n",
       "      <td>NaN</td>\n",
       "      <td>NaN</td>\n",
       "      <td>NaN</td>\n",
       "    </tr>\n",
       "    <tr>\n",
       "      <th>1</th>\n",
       "      <td>2008-01-01 11:00:00</td>\n",
       "      <td>29.0</td>\n",
       "      <td>13.0</td>\n",
       "      <td>-6.9</td>\n",
       "      <td>NaN</td>\n",
       "      <td>4.1</td>\n",
       "      <td>290.0</td>\n",
       "      <td>42.0</td>\n",
       "      <td>NaN</td>\n",
       "      <td>NaN</td>\n",
       "      <td>NaN</td>\n",
       "      <td>NaN</td>\n",
       "      <td>NaN</td>\n",
       "    </tr>\n",
       "    <tr>\n",
       "      <th>2</th>\n",
       "      <td>2008-01-01 12:00:00</td>\n",
       "      <td>29.0</td>\n",
       "      <td>12.0</td>\n",
       "      <td>-5.8</td>\n",
       "      <td>NaN</td>\n",
       "      <td>4.1</td>\n",
       "      <td>290.0</td>\n",
       "      <td>42.0</td>\n",
       "      <td>1.6</td>\n",
       "      <td>-17.5</td>\n",
       "      <td>1010.7</td>\n",
       "      <td>2.0</td>\n",
       "      <td>12.0</td>\n",
       "    </tr>\n",
       "  </tbody>\n",
       "</table>\n",
       "</div>"
      ],
      "text/plain": [
       "                 date  PM10_Counts  PM25_Counts  temp(°C)  precipitation(mm)  \\\n",
       "0 2008-01-01 10:00:00         30.0         11.0      -7.6                NaN   \n",
       "1 2008-01-01 11:00:00         29.0         13.0      -6.9                NaN   \n",
       "2 2008-01-01 12:00:00         29.0         12.0      -5.8                NaN   \n",
       "\n",
       "   wind_speed(m/s)  wind_direction  humidity(%)  vapor_P(hPa)  \\\n",
       "0              4.6           340.0         47.0           NaN   \n",
       "1              4.1           290.0         42.0           NaN   \n",
       "2              4.1           290.0         42.0           1.6   \n",
       "\n",
       "   dew_point_temp(°C)  local_P(hPa)  cloud_cover  lowest_ceiling(100m)  \n",
       "0                 NaN           NaN          NaN                   NaN  \n",
       "1                 NaN           NaN          NaN                   NaN  \n",
       "2               -17.5        1010.7          2.0                  12.0  "
      ]
     },
     "execution_count": 20,
     "metadata": {},
     "output_type": "execute_result"
    }
   ],
   "source": [
    "combined_df.head(3)"
   ]
  },
  {
   "cell_type": "code",
   "execution_count": 21,
   "id": "a223e025-7321-48eb-a01a-888c5155a1d8",
   "metadata": {},
   "outputs": [
    {
     "name": "stdout",
     "output_type": "stream",
     "text": [
      "<class 'pandas.core.frame.DataFrame'>\n",
      "Int64Index: 122733 entries, 0 to 122732\n",
      "Data columns (total 13 columns):\n",
      " #   Column                Non-Null Count   Dtype         \n",
      "---  ------                --------------   -----         \n",
      " 0   date                  122733 non-null  datetime64[ns]\n",
      " 1   PM10_Counts           122733 non-null  float64       \n",
      " 2   PM25_Counts           122733 non-null  float64       \n",
      " 3   temp(°C)              122725 non-null  float64       \n",
      " 4   precipitation(mm)     12267 non-null   float64       \n",
      " 5   wind_speed(m/s)       122674 non-null  float64       \n",
      " 6   wind_direction        122674 non-null  float64       \n",
      " 7   humidity(%)           122708 non-null  float64       \n",
      " 8   vapor_P(hPa)          120881 non-null  float64       \n",
      " 9   dew_point_temp(°C)    120876 non-null  float64       \n",
      " 10  local_P(hPa)          120865 non-null  float64       \n",
      " 11  cloud_cover           102285 non-null  float64       \n",
      " 12  lowest_ceiling(100m)  59431 non-null   float64       \n",
      "dtypes: datetime64[ns](1), float64(12)\n",
      "memory usage: 13.1 MB\n"
     ]
    }
   ],
   "source": [
    "combined_df.info()"
   ]
  },
  {
   "cell_type": "code",
   "execution_count": 22,
   "id": "04ffaebc-535e-4611-9784-5813b06f6417",
   "metadata": {},
   "outputs": [],
   "source": [
    "combined_df.to_csv(\"../data/interim/seoul_fine_dust_weather_2008_2021.csv\", index=False)"
   ]
  },
  {
   "cell_type": "code",
   "execution_count": null,
   "id": "c5bc7fa4-8f05-41d1-b688-93166d712aec",
   "metadata": {},
   "outputs": [],
   "source": []
  }
 ],
 "metadata": {
  "kernelspec": {
   "display_name": "Python [conda env:inj_env]",
   "language": "python",
   "name": "conda-env-inj_env-py"
  },
  "language_info": {
   "codemirror_mode": {
    "name": "ipython",
    "version": 3
   },
   "file_extension": ".py",
   "mimetype": "text/x-python",
   "name": "python",
   "nbconvert_exporter": "python",
   "pygments_lexer": "ipython3",
   "version": "3.10.8"
  }
 },
 "nbformat": 4,
 "nbformat_minor": 5
}
